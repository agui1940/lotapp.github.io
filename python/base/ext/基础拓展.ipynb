{
 "cells": [
  {
   "cell_type": "markdown",
   "metadata": {},
   "source": [
    "上次知识回顾：<a href=\"http://github.lesschina.com/python/base/ext/基础衍生.html\" target=\"_blank\">https://www.cnblogs.com/dotnetcrazy/p/9278573.html</a>\n",
    "\n",
    "终于期末考试结束了，聪明的小明同学现在当然是美滋滋的过暑假了，左手一只瓜，右手一本书～正在给老乡小张同学拓展他研究多日的知识点\n",
    "\n",
    "\n",
    "## 1.NetCore装饰器模式\n",
    "\n",
    "装饰器这次从`C#`开始引入，上次刚讲`迭代器模式`，这次把`装饰器模式`也带一波（纯Python方向的可以选择性跳过，也可以当扩展）\n",
    "\n",
    "其实通俗讲就是，**给原有对象动态的添加一些额外的职责**（毕竟动不动就改类你让其他调用的人咋办？也不符合开放封闭原则是吧～）\n",
    "\n",
    "举个简单的例子：(<a href=\"https://github.com/lotapp/BaseCode/tree/master/netcore/3_Ext/Decorators\" target=\"_blank\">https://github.com/lotapp/BaseCode/tree/master/netcore/3_Ext/Decorators</a>)\n",
    "\n",
    "BaseComponent.cs\n",
    "```csharp\n",
    "/// <summary>\n",
    "/// 组件的抽象父类\n",
    "/// </summary>\n",
    "public abstract class BaseComponent\n",
    "{\n",
    "    /// <summary>\n",
    "    /// 定义一个登录的抽象方法\n",
    "    /// 其他方法，这边省略\n",
    "    /// </summary>\n",
    "    public abstract string Login();\n",
    "}\n",
    "```\n",
    "LoginComponent.cs\n",
    "```csharp\n",
    "/// <summary>\n",
    "/// 默认登录组件（账号+密码）\n",
    "/// 其他方法省略\n",
    "/// 友情提醒一下，抽象类里面可以定义非抽象方法\n",
    "/// </summary>\n",
    "public class LoginComponent : BaseComponent\n",
    "{\n",
    "    public override string Login()\n",
    "    {\n",
    "        return \"默认账号密码登录\";\n",
    "    }\n",
    "}\n",
    "```\n",
    "默认调用：\n",
    "```csharp\n",
    "static void Main(string[] args)\n",
    "{\n",
    "    var obj = new LoginComponent();\n",
    "    var str = obj.Login();\n",
    "    Console.WriteLine(str);\n",
    "}\n",
    "```\n",
    "\n",
    "---\n",
    "\n",
    "如果这时候平台需要添加微信第三方登录，怎么办？一般都是用继承来解决，其实还可以通过灵活的`装饰器`来解决：（好处可以自己体会）\n",
    "\n",
    "\n",
    "先定义一个通用装饰器（不一定针对登录，注册等等只要在BaseComponent中的都能用）\n",
    "```csharp\n",
    "/// <summary>\n",
    "/// 装饰器\n",
    "/// </summary>\n",
    "public class BaseDecorator : BaseComponent\n",
    "{\n",
    "    protected BaseComponent _component;\n",
    "    /// <summary>\n",
    "    /// 构造函数\n",
    "    /// </summary>\n",
    "    /// <param name=\"obj\">登录组件对象</param>\n",
    "    protected BaseDecorator(BaseComponent obj)\n",
    "    {\n",
    "        this._component = obj;\n",
    "    }\n",
    "    public override string Login()\n",
    "    {\n",
    "        string str = string.Empty;\n",
    "        if (_component != null) str = _component.Login();\n",
    "        return str;\n",
    "    }\n",
    "}\n",
    "```\n",
    "现在根据需求添加微信登录：（符合开放封闭原则）\n",
    "```csharp\n",
    "/// <summary>\n",
    "/// 默认登录组件（账号+密码）\n",
    "/// 其他方法省略\n",
    "/// </summary>\n",
    "public class WeChatLoginDecorator : BaseDecorator\n",
    "{\n",
    "    public WeChatLoginDecorator(BaseComponent obj) : base(obj)\n",
    "    {\n",
    "    }\n",
    "    /// <summary>\n",
    "    /// 添加微信第三方登录\n",
    "    /// </summary>\n",
    "    /// <returns></returns>\n",
    "    public string WeChatLogin()\n",
    "    {\n",
    "        return \"add WeChatLogin\";\n",
    "    }\n",
    "}\n",
    "```\n",
    "调用：（原有系统该怎么用就怎么用，新系统可以使用装饰器来添加新功能）\n",
    "```csharp\n",
    "static void Main(string[] args)\n",
    "{\n",
    "    #region 登录模块V2\n",
    "    // 实例化登录装饰器\n",
    "    var loginDecorator = new WeChatLoginDecorator(new LoginComponent());\n",
    "    // 原有的登录方法\n",
    "    var str1 = loginDecorator.Login();\n",
    "    // 现在新增的登录方法\n",
    "    var str2 = loginDecorator.WeChatLogin();\n",
    "    Console.WriteLine($\"{str1}\\n{str2}\");\n",
    "    #endregion\n",
    "}\n",
    "```\n",
    "结果：\n",
    "```\n",
    "默认账号密码登录\n",
    "add WeChatLogin\n",
    "```\n",
    "---\n",
    "\n",
    "如果再加入QQ和新浪登录的功能就再添加一个V3版本的装饰器，继承当时V2版本的登录即可（版本迭代特别方便）\n",
    "```csharp\n",
    "/// <summary>\n",
    "/// 默认登录组件（账号+密码）\n",
    "/// 其他方法省略\n",
    "/// </summary>\n",
    "public class LoginDecoratorV3 : WeChatLoginDecorator\n",
    "{\n",
    "    public LoginDecoratorV3(BaseComponent obj) : base(obj)\n",
    "    {\n",
    "    }\n",
    "\n",
    "    /// <summary>\n",
    "    /// 添加QQ登录\n",
    "    /// </summary>\n",
    "    /// <returns></returns>\n",
    "    public string QQLogin()\n",
    "    {\n",
    "        return \"add QQLogin\";\n",
    "    }\n",
    "\n",
    "    /// <summary>\n",
    "    /// 添加新浪登录\n",
    "    /// </summary>\n",
    "    /// <returns></returns>\n",
    "    public string SinaLogin()\n",
    "    {\n",
    "        return \"add SinaLogin\";\n",
    "    }\n",
    "}\n",
    "```\n",
    "调用：\n",
    "```csharp\n",
    "static void Main(string[] args)\n",
    "{\n",
    "    #region 登录模块V3\n",
    "    // 实例化登录装饰器\n",
    "    var loginDecoratorV3 = new LoginDecoratorV3(new LoginComponent());\n",
    "    // 原有的登录方法\n",
    "    var v1 = loginDecoratorV3.Login();\n",
    "    // 第二个版本迭代中的微信登录\n",
    "    var v2 = loginDecoratorV3.WeChatLogin();\n",
    "    // 新增的QQ和新浪登录\n",
    "    var qqLogin = loginDecoratorV3.QQLogin();\n",
    "    var sinaLogin = loginDecoratorV3.SinaLogin();\n",
    "    Console.WriteLine($\"{v1}\\n{v2}\\n{qqLogin}\\n{sinaLogin}\");\n",
    "    #endregion\n",
    "}\n",
    "```\n",
    "结果：\n",
    "```\n",
    "默认账号密码登录\n",
    "add WeChatLogin\n",
    "add QQLogin\n",
    "add SinaLogin\n",
    "```\n",
    "\n",
    "---\n",
    "其实还有很多用处，比如原有系统缓存这块当时考虑不到，现在并发来了，已经上线了，原有代码又不太敢大幅度修改，这时候装饰器就很方便的给某些功能添加点缓存、测试、日记等等系列功能\n",
    "\n",
    "实际场景说的已经很明白了，其他的自己摸索一下吧"
   ]
  },
  {
   "cell_type": "markdown",
   "metadata": {},
   "source": [
    "## 2.Python装饰器\n",
    "\n",
    "那Python怎么实现装饰器呢？小胖问道。\n",
    "\n",
    "小明屁颠屁颠的跑过去说道，通过闭包咯～（闭包如果忘了，可以<a href=\"https://www.cnblogs.com/dotnetcrazy/p/9278573.html#8.闭包\" target=\"_blank\">回顾</a>一下）\n",
    "\n",
    "### 2.1.装饰器引入\n",
    "\n",
    "来看一个应用场景，以前老版本系统因为并发比较小，没考虑到缓存\n",
    "```py\n",
    "def get_data():\n",
    "    print(\"直接数据库读取数据\")\n",
    "\n",
    "def main():\n",
    "    get_data()\n",
    "\n",
    "if __name__ == '__main__':\n",
    "    main()\n",
    "```\n",
    "在不修改原有代码的前提下咋办？我们参照C#和Java写下如下代码："
   ]
  },
  {
   "cell_type": "code",
   "execution_count": 1,
   "metadata": {},
   "outputs": [
    {
     "name": "stdout",
     "output_type": "stream",
     "text": [
      "给功能添加了缓存\n",
      "<class 'function'>\n"
     ]
    }
   ],
   "source": [
    "# 添加一个闭包\n",
    "def cache(func):\n",
    "    def decorator():\n",
    "        print(\"给功能添加了缓存\")\n",
    "        if True:\n",
    "            pass\n",
    "        else:\n",
    "            func()# 如果缓存失效则读取数据库获取新的数据\n",
    "    return decorator\n",
    "\n",
    "def get_data():\n",
    "    print(\"直接数据库读取数据\")\n",
    "\n",
    "def main():\n",
    "    f1 = cache(get_data)\n",
    "    f1()\n",
    "    print(type(f1))\n",
    "\n",
    "if __name__ == '__main__':\n",
    "    main()"
   ]
  },
  {
   "cell_type": "markdown",
   "metadata": {},
   "source": [
    "小张问道：“怎么也这么麻烦啊，C#的那个我就有点晕了，怎么Python也这样啊？”`f1 = cache(get_data)` `f1()`\n",
    "\n",
    "小明哈哈一笑道：“人生苦短，我用Python～这句话可不是随便说着玩的，来来来，看看Python的语法糖”："
   ]
  },
  {
   "cell_type": "code",
   "execution_count": 2,
   "metadata": {},
   "outputs": [
    {
     "name": "stdout",
     "output_type": "stream",
     "text": [
      "给功能添加了缓存\n"
     ]
    }
   ],
   "source": [
    "def cache(func):\n",
    "    def wrapper():\n",
    "        print(\"给功能添加了缓存\")\n",
    "        if True:\n",
    "            pass\n",
    "        else:\n",
    "            func()  # 如果缓存失效则读取数据库获取新的数据\n",
    "    return wrapper\n",
    "\n",
    "@cache\n",
    "def get_data():\n",
    "    print(\"直接数据库读取数据\")\n",
    "\n",
    "def main():\n",
    "    get_data()\n",
    "\n",
    "if __name__ == '__main__':\n",
    "    main()"
   ]
  },
  {
   "cell_type": "markdown",
   "metadata": {},
   "source": [
    "其实\n",
    "```py\n",
    "@cache\n",
    "def get_data()\n",
    "```\n",
    "等价于\n",
    "```py\n",
    "# 把f1改成函数名字罢了。可以这么理解：get_data重写指向了一个新函数\n",
    "get_data = cache(get_data)\n",
    "```\n",
    "\n",
    "小张同学瞪了瞪眼睛，努力回想着以前的知识点，然后脱口而出：“这不是我们之前讲的<a href=\"https://www.cnblogs.com/dotnetcrazy/p/9202988.html#1.5-装饰器，让方法像属性那样便利\" target=\"_blank\">属性装饰器</a>吗？而且好方便啊，这完全符合开放封闭原则啊！“\n",
    "\n",
    "```py\n",
    "class Student(object):\n",
    "    def __init__(self, name, age):\n",
    "        # 一般需要用到的属性都直接放在__init__里面了\n",
    "        self.name = name\n",
    "        self.age = age\n",
    "\n",
    "    @property\n",
    "    def name(self):\n",
    "        return self.__name\n",
    "\n",
    "    @name.setter\n",
    "    def name(self, name):\n",
    "        self.__name = name\n",
    "\n",
    "    @property\n",
    "    def age(self):\n",
    "        return self.__age\n",
    "\n",
    "    @age.setter\n",
    "    def age(self, age):\n",
    "        if age > 0:\n",
    "            self.__age = age\n",
    "        else:\n",
    "            print(\"age must > 0\")\n",
    "\n",
    "    def show(self):\n",
    "        print(\"name:%s,age:%s\" % (self.name, self.age))\n",
    "```\n",
    "\n",
    "小明也愣了愣，说道：”也对哦，你不说我都忘了，我们学习面向对象三大特性的时候经常用呢，怪不得这么熟悉呢“\n",
    "\n",
    "随后又嘀咕了一句：”我怎么不知道开放封闭原则...“\n",
    "\n",
    "小张嘲笑道：”这你都不知道？**对扩展开放，对已经实现的代码封闭**嘛～“"
   ]
  },
  {
   "cell_type": "code",
   "execution_count": 3,
   "metadata": {},
   "outputs": [
    {
     "name": "stdout",
     "output_type": "stream",
     "text": [
      "装饰器开始装饰\n"
     ]
    }
   ],
   "source": [
    "# 需要注意一点\n",
    "def cache(func):\n",
    "    print(\"装饰器开始装饰\")\n",
    "    def wrapper():\n",
    "            print(\"给功能添加了缓存\")\n",
    "            if True:\n",
    "                pass\n",
    "            else:\n",
    "                func()  # 如果缓存失效则读取数据库获取新的数据\n",
    "    return wrapper\n",
    "\n",
    "@cache # 当你写这个的时候，装饰器就开始装饰了，闭包里面的功能是你调用的时候执行\n",
    "def get_data():\n",
    "    print(\"直接数据库读取数据\")"
   ]
  },
  {
   "cell_type": "markdown",
   "metadata": {},
   "source": [
    "### 2.2.多个装饰器\n",
    "\n",
    "小明赶紧扯开话题，”咳咳，我们接下来我们接着讲装饰器\"\n",
    "\n",
    "小张问道，像上面那个第三方登录的案例，想加多少加多少，Python怎么办呢？\n",
    "\n",
    "小明一笑而过～\n",
    "\n",
    "现在项目又升级了，要求每次调用都要打印一下日记信息，方便以后纠错，小张先用自己的理解打下了这段代码，然后像小明请教："
   ]
  },
  {
   "cell_type": "code",
   "execution_count": 4,
   "metadata": {},
   "outputs": [
    {
     "name": "stdout",
     "output_type": "stream",
     "text": [
      "输出日记信息\n",
      "给功能添加了缓存\n"
     ]
    }
   ],
   "source": [
    "def log(func):\n",
    "    def wrapper():\n",
    "        print(\"输出日记信息\")\n",
    "        cache(func)()\n",
    "    return wrapper\n",
    "    \n",
    "def cache(func):\n",
    "    def wrapper():\n",
    "        print(\"给功能添加了缓存\")\n",
    "        if True:\n",
    "            pass\n",
    "        else:\n",
    "            func()  # 如果缓存失效则读取数据库获取新的数据\n",
    "    return wrapper\n",
    "\n",
    "@log\n",
    "def get_data():\n",
    "    print(\"直接数据库读取数据\")\n",
    "\n",
    "def main():\n",
    "    get_data()\n",
    "\n",
    "if __name__ == '__main__':\n",
    "    main()"
   ]
  },
  {
   "cell_type": "markdown",
   "metadata": {},
   "source": [
    "小明刚美滋滋的喝着口口可乐呢，看到代码后一不小心喷了小张一脸，然后尴尬的说道：“Python又不是只能装饰一个装饰器，来看看我的代码”："
   ]
  },
  {
   "cell_type": "code",
   "execution_count": 5,
   "metadata": {},
   "outputs": [
    {
     "name": "stdout",
     "output_type": "stream",
     "text": [
      "开始装饰Cache模块\n",
      "开始装饰Log模块\n",
      "输出日记信息\n",
      "给功能添加了缓存\n"
     ]
    }
   ],
   "source": [
    "def log(func):\n",
    "    print(\"开始装饰Log模块\")\n",
    "    def wrapper():\n",
    "        print(\"输出日记信息\")\n",
    "        func()\n",
    "    return wrapper\n",
    "\n",
    "def cache(func):\n",
    "    print(\"开始装饰Cache模块\")\n",
    "    def wrapper():\n",
    "        print(\"给功能添加了缓存\")\n",
    "        if True:\n",
    "            pass\n",
    "        else:\n",
    "            func()  # 如果缓存失效则读取数据库获取新的数据\n",
    "    return wrapper\n",
    "\n",
    "@log\n",
    "@cache\n",
    "def get_data():\n",
    "    print(\"直接数据库读取数据\")\n",
    "\n",
    "def main():\n",
    "    get_data()\n",
    "\n",
    "if __name__ == '__main__':\n",
    "    main()"
   ]
  },
  {
   "cell_type": "markdown",
   "metadata": {},
   "source": [
    "小张耐心的看完了代码，然后说道：“咦，我发现它**装饰的时候是从下往上装饰，执行的时候是从上往下**啊？执行的时候程序本来就是从上往下，按照道理应该是从上往下装饰啊？”\n",
    "\n",
    "小明神秘的说道：“你猜啊～你可以把它理解为**寄快递和拆快递**”\n",
    "\n",
    "小张兴奋的跳起来了：\n",
    "\n",
    "**装饰器：装快递，先包装里面的物品，然后再加个盒子。执行装饰器：拆快递，先拆外面的包装再拆里面的**～简直妙不可言啊\n",
    "\n",
    "### 2.3.带参装饰器\n",
    "\n",
    "小明继续讲述他哥哥的血泪历史：\n",
    "\n",
    "需求时刻在变，系统使用范围更广了，为了不砸场子，抠门的老板决定每年多花5W在技术研发的硬件支持上，这下子技术部老开心了，想想以前前端只能通过CDN和HTTP请求来缓存，后端只能依赖页面缓存和数据库缓存就心塞，于是赶紧新增加一台Redis的云服务器。为了以后和现在缓存代码得变一变了，**需要支持指定的缓存数据库**：（如果不是维护别人搞的老项目，你这么玩保证被打死，开发的时候老老实实的工厂模式搞起）\n",
    "\n",
    "**带参数的装饰器一般都是用来记录logo日记比较多，自己开发知道debug模式，生产指定except模式等等**"
   ]
  },
  {
   "cell_type": "code",
   "execution_count": 6,
   "metadata": {},
   "outputs": [
    {
     "name": "stdout",
     "output_type": "stream",
     "text": [
      "给功能添加了Redis缓存\n"
     ]
    }
   ],
   "source": [
    "# 可以理解为，在原来的外面套了一层\n",
    "def cache(cache_name):\n",
    "    def decorator(func):\n",
    "        def wrapper():\n",
    "            if cache_name == \"redis\":\n",
    "                print(\"给功能添加了Redis缓存\")\n",
    "            elif cache_name == \"memcache\":\n",
    "                pass\n",
    "            else:\n",
    "                func()\n",
    "        return wrapper\n",
    "    return decorator\n",
    "\n",
    "@cache(\"redis\") # 相当于是：get_data = cache(”redis“)(get_data)\n",
    "def get_data():\n",
    "    print(\"直接数据库读取数据\")\n",
    "\n",
    "def main():\n",
    "    get_data()\n",
    "\n",
    "if __name__ == '__main__':\n",
    "    main()"
   ]
  },
  {
   "cell_type": "markdown",
   "metadata": {},
   "source": [
    "小张很高兴，然后练了练手，然后质问小明道：”你是不是藏了一手！“\n",
    "\n",
    "代码如下："
   ]
  },
  {
   "cell_type": "code",
   "execution_count": 7,
   "metadata": {},
   "outputs": [
    {
     "name": "stdout",
     "output_type": "stream",
     "text": [
      "login_out log_info...\n",
      "已经退出登录\n"
     ]
    },
    {
     "ename": "TypeError",
     "evalue": "inner() takes 0 positional arguments but 1 was given",
     "output_type": "error",
     "traceback": [
      "\u001b[0;31m---------------------------------------------------------------------------\u001b[0m",
      "\u001b[0;31mTypeError\u001b[0m                                 Traceback (most recent call last)",
      "\u001b[0;32m<ipython-input-7-dcb695819107>\u001b[0m in \u001b[0;36m<module>\u001b[0;34m()\u001b[0m\n\u001b[1;32m     23\u001b[0m \u001b[0;34m\u001b[0m\u001b[0m\n\u001b[1;32m     24\u001b[0m \u001b[0;32mif\u001b[0m \u001b[0m__name__\u001b[0m \u001b[0;34m==\u001b[0m \u001b[0;34m'__main__'\u001b[0m\u001b[0;34m:\u001b[0m\u001b[0;34m\u001b[0m\u001b[0m\n\u001b[0;32m---> 25\u001b[0;31m     \u001b[0mmain\u001b[0m\u001b[0;34m(\u001b[0m\u001b[0;34m)\u001b[0m\u001b[0;34m\u001b[0m\u001b[0m\n\u001b[0m",
      "\u001b[0;32m<ipython-input-7-dcb695819107>\u001b[0m in \u001b[0;36mmain\u001b[0;34m()\u001b[0m\n\u001b[1;32m     19\u001b[0m \u001b[0;32mdef\u001b[0m \u001b[0mmain\u001b[0m\u001b[0;34m(\u001b[0m\u001b[0;34m)\u001b[0m\u001b[0;34m:\u001b[0m\u001b[0;34m\u001b[0m\u001b[0m\n\u001b[1;32m     20\u001b[0m     \u001b[0mlogin_out\u001b[0m\u001b[0;34m(\u001b[0m\u001b[0;34m)\u001b[0m\u001b[0;34m\u001b[0m\u001b[0m\n\u001b[0;32m---> 21\u001b[0;31m     \u001b[0mget_data\u001b[0m\u001b[0;34m(\u001b[0m\u001b[0;36m1\u001b[0m\u001b[0;34m)\u001b[0m\u001b[0;34m\u001b[0m\u001b[0m\n\u001b[0m\u001b[1;32m     22\u001b[0m     \u001b[0mprint\u001b[0m\u001b[0;34m(\u001b[0m\u001b[0mlogin_in\u001b[0m\u001b[0;34m(\u001b[0m\u001b[0;34m\"小明\"\u001b[0m\u001b[0;34m,\u001b[0m \u001b[0;34m\"xxx\"\u001b[0m\u001b[0;34m)\u001b[0m\u001b[0;34m)\u001b[0m\u001b[0;34m\u001b[0m\u001b[0m\n\u001b[1;32m     23\u001b[0m \u001b[0;34m\u001b[0m\u001b[0m\n",
      "\u001b[0;31mTypeError\u001b[0m: inner() takes 0 positional arguments but 1 was given"
     ]
    }
   ],
   "source": [
    "def log(func):\n",
    "    def inner():\n",
    "        print(\"%s log_info...\" % func.__name__)\n",
    "        func()\n",
    "    return inner\n",
    "\n",
    "@log\n",
    "def login_in(name_str, pass_str):\n",
    "    return \"欢迎登录：%s\" % (name_str)\n",
    "\n",
    "@log\n",
    "def login_out():\n",
    "    print(\"已经退出登录\")\n",
    "\n",
    "@log\n",
    "def get_data(id):\n",
    "    print(\"%s:data xxx\" % id)\n",
    "\n",
    "def main():\n",
    "    login_out()\n",
    "    get_data(1)\n",
    "    print(login_in(\"小明\", \"xxx\"))\n",
    "\n",
    "if __name__ == '__main__':\n",
    "    main()"
   ]
  },
  {
   "cell_type": "markdown",
   "metadata": {},
   "source": [
    "### 2.4.通用装饰器\n",
    "\n",
    "小明尴尬的笑了下，然后赶紧倾囊相授，定义一个**通用的装饰器**：（传参数就在外面套一层）\n",
    "```py\n",
    "def log(func):\n",
    "    @functools.wraps(func) # 签名下面一个案例就会讲\n",
    "    def wrapper(*args,**kv):\n",
    "        \"\"\"可变参 + 关键字参数\"\"\"\n",
    "        print(\"%s log_info...\" % func.__name__)\n",
    "        return func(*args,**kv)\n",
    "    return wrapper\n",
    "```\n",
    "这部分知识如果忘记了可以回顾一下，我们之前讲的函数系列：<a href=\"https://www.cnblogs.com/dotnetcrazy/p/9175950.html#2.3.关键字参数\" target=\"_blank\">https://www.cnblogs.com/dotnetcrazy/p/9175950.html</a>"
   ]
  },
  {
   "cell_type": "code",
   "execution_count": 8,
   "metadata": {
    "scrolled": true
   },
   "outputs": [
    {
     "name": "stdout",
     "output_type": "stream",
     "text": [
      "login_out log_info...\n",
      "已经退出登录\n",
      "get_data log_info...\n",
      "1:data xxx\n",
      "login_in log_info...\n",
      "欢迎登录：小明\n"
     ]
    }
   ],
   "source": [
    "def log(func):\n",
    "    # 可变参 + 关键字参数\n",
    "    def wrapper(*args,**kv):\n",
    "        print(\"%s log_info...\" % func.__name__)\n",
    "        return func(*args,**kv)\n",
    "    return wrapper\n",
    "\n",
    "@log\n",
    "def login_in(name_str, pass_str):\n",
    "    return \"欢迎登录：%s\" % (name_str)\n",
    "\n",
    "@log\n",
    "def login_out():\n",
    "    print(\"已经退出登录\")\n",
    "\n",
    "@log\n",
    "def get_data(id):\n",
    "    print(\"%s:data xxx\" % id)\n",
    "\n",
    "def main():\n",
    "    login_out()\n",
    "    get_data(1)\n",
    "    print(login_in(\"小明\", \"xxx\"))\n",
    "\n",
    "if __name__ == '__main__':\n",
    "    main()"
   ]
  },
  {
   "cell_type": "markdown",
   "metadata": {},
   "source": [
    "### 2.5.扩展补充\n",
    "\n",
    "其实装饰器可以做很多事情，比如强制类型检测等，先看几个扩展：\n",
    "\n",
    "#### 1.装饰器方法签名的问题\n",
    "\n",
    "成也装饰器，败也装饰器，来个案例看看，装饰器装饰的函数真的就对原函数没点影响？"
   ]
  },
  {
   "cell_type": "code",
   "execution_count": 9,
   "metadata": {},
   "outputs": [],
   "source": [
    "# 添加一个闭包\n",
    "def cache(func):\n",
    "    def wrapper(*args,**kv):\n",
    "        if True:\n",
    "            print(\"缓存尚未失效：直接返回缓存数据\")\n",
    "        else:\n",
    "            func(*args,**kv)\n",
    "    return wrapper\n",
    "\n",
    "def get_data(id):\n",
    "    \"\"\"获取数据\"\"\"\n",
    "    print(\"通过%d直接数据库读取数据\"%id)"
   ]
  },
  {
   "cell_type": "code",
   "execution_count": 10,
   "metadata": {},
   "outputs": [
    {
     "name": "stdout",
     "output_type": "stream",
     "text": [
      "缓存尚未失效：直接返回缓存数据\n",
      "wrapper\n",
      "None\n"
     ]
    }
   ],
   "source": [
    "# 进行装饰\n",
    "get_data = cache(get_data)\n",
    "# 调用原有名称的函数\n",
    "get_data(110)\n",
    "# 发现虽然函数调用时候的名字没有变\n",
    "# 但是内部签名却变成了闭包里面的函数名了\n",
    "print(get_data.__name__)\n",
    "print(get_data.__doc__)\n",
    "# print(get_data.__annotations__)"
   ]
  },
  {
   "cell_type": "markdown",
   "metadata": {},
   "source": [
    "发现虽然函数调用时候的名字没有变，但是内部签名却变成了闭包里面的函数名了！\n",
    "\n",
    "玩过逆向的人都知道，像你修改了apk文件，它看似一样，但签名就变了，得再处理才可能绕过原来的一些自效验的验证措施\n",
    "\n",
    "这边一样的道理，你写了一个装饰器作用在某个函数上，但是这个函数的重要的元信息比如名字、文档字符串、注解和参数签名都丢失了。\n",
    "\n",
    "`functools`里面的`wraps`就帮我们干了这个事情（之前讲模块的时候引入了functools，随后讲衍生的时候用了里面的偏函数，这边讲讲`wraps`）\n",
    "\n",
    "上面代码改改："
   ]
  },
  {
   "cell_type": "code",
   "execution_count": 11,
   "metadata": {},
   "outputs": [
    {
     "name": "stdout",
     "output_type": "stream",
     "text": [
      "缓存尚未失效：直接返回缓存数据\n",
      "get_data\n",
      "获取数据\n"
     ]
    }
   ],
   "source": [
    "from functools import wraps\n",
    "\n",
    "# 添加一个闭包\n",
    "def cache(func):\n",
    "    @wraps(func)\n",
    "    def wrapper(*args,**kv):\n",
    "        if True:\n",
    "            print(\"缓存尚未失效：直接返回缓存数据\")\n",
    "        else:\n",
    "            func(*args,**kv)\n",
    "    return wrapper\n",
    "\n",
    "def get_data(id):\n",
    "    \"\"\"获取数据\"\"\"\n",
    "    print(\"通过%d直接数据库读取数据\"%id)\n",
    "\n",
    "# 进行装饰\n",
    "get_data = cache(get_data)\n",
    "# 调用原有名称的函数\n",
    "get_data(110)\n",
    "# 签名已然一致\n",
    "print(get_data.__name__)\n",
    "print(get_data.__doc__)\n",
    "# print(get_data.__annotations__)"
   ]
  },
  {
   "cell_type": "markdown",
   "metadata": {},
   "source": [
    "另外：`@wraps`有一个重要特征是它能让你通过属性 `__wrapped__` 直接访问被包装函数，eg："
   ]
  },
  {
   "cell_type": "code",
   "execution_count": 12,
   "metadata": {},
   "outputs": [
    {
     "name": "stdout",
     "output_type": "stream",
     "text": [
      "通过100直接数据库读取数据\n"
     ]
    }
   ],
   "source": [
    "get_data.__wrapped__(100)"
   ]
  },
  {
   "cell_type": "markdown",
   "metadata": {},
   "source": [
    "#### 2.装饰器传参的扩展（可传可不传）\n",
    "\n"
   ]
  },
  {
   "cell_type": "code",
   "execution_count": 13,
   "metadata": {},
   "outputs": [
    {
     "name": "stderr",
     "output_type": "stream",
     "text": [
      "get_data\n"
     ]
    },
    {
     "name": "stdout",
     "output_type": "stream",
     "text": [
      "读数据ing\n"
     ]
    }
   ],
   "source": [
    "import logging\n",
    "from functools import wraps, partial\n",
    "\n",
    "def logged(func=None, *, level=logging.DEBUG, name=None, message=None):\n",
    "    if func is None:\n",
    "        return partial(logged, level=level, name=name, message=message)\n",
    "\n",
    "    logname = name if name else func.__module__\n",
    "    log = logging.getLogger(logname)\n",
    "    logmsg = message if message else func.__name__\n",
    "\n",
    "    @wraps(func)\n",
    "    def wrapper(*args, **kwargs):\n",
    "        log.log(level, logmsg)\n",
    "        return func(*args, **kwargs)\n",
    "    return wrapper\n",
    "\n",
    "@logged\n",
    "def add(x, y):\n",
    "    return x + y\n",
    "\n",
    "@logged(level=logging.CRITICAL, name='测试')\n",
    "def get_data():\n",
    "    print(\"读数据ing\")\n",
    "\n",
    "def main():\n",
    "    add(1,2)\n",
    "    get_data()\n",
    "\n",
    "if __name__ == '__main__':\n",
    "    main()"
   ]
  },
  {
   "cell_type": "markdown",
   "metadata": {},
   "source": [
    "#### 3.类中定义装饰器\n",
    "\n",
    "在类里面定义装饰器很简单，但是你首先要确认它的使用方式。比如到底是作为一个实例方法还是类方法：（**别忘记写`self`和`cls`**）"
   ]
  },
  {
   "cell_type": "code",
   "execution_count": 14,
   "metadata": {},
   "outputs": [],
   "source": [
    "from functools import wraps\n",
    "\n",
    "class A(object):\n",
    "    # 实例方法\n",
    "    def decorator1(self, func):\n",
    "        @wraps(func)\n",
    "        def wrapper(*args, **kwargs):\n",
    "            print(\"实例方法装饰器\")\n",
    "            return func(*args, **kwargs)\n",
    "        return wrapper\n",
    "\n",
    "    # 类方法\n",
    "    @classmethod\n",
    "    def decorator2(cls, func):\n",
    "        @wraps(func)\n",
    "        def wrapper(*args, **kwargs):\n",
    "            print(\"类方法装饰器\")\n",
    "            return func(*args, **kwargs)\n",
    "        return wrapper"
   ]
  },
  {
   "cell_type": "code",
   "execution_count": 15,
   "metadata": {},
   "outputs": [],
   "source": [
    "# 装饰方式不一样\n",
    "a = A()\n",
    "@a.decorator1 # 实例方法调用\n",
    "def test1():\n",
    "    pass\n",
    "\n",
    "@A.decorator2 # 类方法调用\n",
    "def test2():\n",
    "    pass"
   ]
  },
  {
   "cell_type": "code",
   "execution_count": 16,
   "metadata": {
    "scrolled": true
   },
   "outputs": [
    {
     "name": "stdout",
     "output_type": "stream",
     "text": [
      "实例方法装饰器\n",
      "类方法装饰器\n"
     ]
    }
   ],
   "source": [
    "# 调用一下\n",
    "test1()\n",
    "test2()"
   ]
  },
  {
   "cell_type": "markdown",
   "metadata": {},
   "source": [
    "在涉及到继承的时候。 例如，假设你想让在A中定义的装饰器作用在子类B中。你需要像下面这样写：\n",
    "```py\n",
    "class B(A):\n",
    "    @A.decorator2\n",
    "    def test(self):\n",
    "        pass\n",
    "```\n",
    "也就是说，装饰器要被定义成类方法并且你必须显式的使用父类名去调用它。 \n",
    "\n",
    "你不能使用 `@B.decorator2` ，因为在方法定义时，这个类B还没有被创建。\n",
    "\n",
    "#### 4.类装饰器\n",
    "\n",
    "看这个之前，我们先来看看怎么把类当函数一样使用："
   ]
  },
  {
   "cell_type": "code",
   "execution_count": 17,
   "metadata": {},
   "outputs": [
    {
     "name": "stdout",
     "output_type": "stream",
     "text": [
      "让类对象能像函数一样调用的～魔法方法\n"
     ]
    }
   ],
   "source": [
    "class A(object):\n",
    "    def __call__(self):\n",
    "        print(\"让类对象能像函数一样调用的～魔法方法\")\n",
    "\n",
    "def main():\n",
    "    a = A()\n",
    "    a()\n",
    "\n",
    "if __name__ == '__main__':\n",
    "    main()"
   ]
  },
  {
   "cell_type": "markdown",
   "metadata": {},
   "source": [
    "重载这些魔法方法一般会改变对象的内部行为。上面这个例子就让一个类对象拥有了被调用的行为。\n",
    "\n",
    "装饰器函数其实是这样一个接口约束，它必须接受一个`callable`对象作为参数，然后返回一个`callable`对象。\n",
    "\n",
    "在Python中一般`callable`对象都是函数，但也有例外。只要某个对象重写了 `__call__()` 方法，那么这个对象就是callable的\n",
    "\n",
    "用类来实现呢？**我们可以让类的构造函数`__init__()`接受一个函数，然后重载`__call__()`并返回一个函数，也可以达到装饰器函数的效果**\n",
    "\n",
    "我们拿之前说的通用装饰器的例子继续说：（*一般来说装饰器就定义成方法，然后给需要添加的函数或者类方法添加就基本够用了*）"
   ]
  },
  {
   "cell_type": "code",
   "execution_count": 18,
   "metadata": {},
   "outputs": [
    {
     "name": "stdout",
     "output_type": "stream",
     "text": [
      "login_out log_info...\n",
      "已经退出登录\n",
      "get_data log_info...\n",
      "1:data xxx\n",
      "login_in log_info...\n",
      "欢迎登录：小明\n"
     ]
    }
   ],
   "source": [
    "from functools import wraps\n",
    "\n",
    "class Log(object):\n",
    "    def __init__(self, func):\n",
    "        wraps(func)(self)  # @wraps(func) 访问不到，所以用这种方式\n",
    "        self.__func = func\n",
    "\n",
    "    def __call__(self, *args, **kvs):\n",
    "        print(\"%s log_info...\" % self.__func.__name__)\n",
    "        return self.__func(*args, **kvs)\n",
    "@Log\n",
    "def login_in(name_str, pass_str):\n",
    "    return \"欢迎登录：%s\" % (name_str)\n",
    "\n",
    "@Log\n",
    "def login_out():\n",
    "    print(\"已经退出登录\")\n",
    "\n",
    "@Log\n",
    "def get_data(id):\n",
    "    print(\"%s:data xxx\" % id)\n",
    "\n",
    "def main():\n",
    "    login_out()\n",
    "    get_data(1)\n",
    "    print(login_in(\"小明\", \"xxx\"))\n",
    "\n",
    "if __name__ == '__main__':\n",
    "    main()"
   ]
  },
  {
   "cell_type": "markdown",
   "metadata": {},
   "source": [
    "对类进行装饰的测试：（以上一个案例为例）\n",
    "\n",
    "装饰实例方法的时候容易出现莫名其妙的错误，所以一般加上get方法（反射系列的稍后会讲）\n",
    "\n",
    "`eg：show() missing 1 required positional argument: 'self'`\n",
    "\n",
    "完整写法：（你可以去除`__get__`试试）"
   ]
  },
  {
   "cell_type": "code",
   "execution_count": 19,
   "metadata": {},
   "outputs": [
    {
     "name": "stdout",
     "output_type": "stream",
     "text": [
      "login_in log_info...\n",
      "登录ing\n",
      "show_news log_info...\n",
      "今天的新闻是...\n",
      "show log_info...\n",
      "欢迎你：小明\n"
     ]
    }
   ],
   "source": [
    "import types\n",
    "from functools import wraps\n",
    "\n",
    "class Log(object):\n",
    "    def __init__(self, func):\n",
    "        wraps(func)(self)  # @wraps(func) 访问不到，所以用这种方式\n",
    "        self.__func = func\n",
    "\n",
    "    def __call__(self, *args, **kvs):\n",
    "        print(\"%s log_info...\" % self.__func.__name__)\n",
    "        return self.__func(*args, **kvs)\n",
    "\n",
    "    # 装饰实例方法的时候容易出现莫名其妙的错误，所以一般加上get方法\n",
    "    # eg：show() missing 1 required positional argument: 'self'\n",
    "    def __get__(self, instance, cls):\n",
    "        if instance is None:\n",
    "            return self\n",
    "        else:\n",
    "            return types.MethodType(self, instance)\n",
    "\n",
    "class LoginComponent(object):\n",
    "    def __init__(self, name):\n",
    "        self.__name = name\n",
    "\n",
    "    @Log\n",
    "    def show(self):\n",
    "        \"\"\"实例方法\"\"\"\n",
    "        print(\"欢迎你：%s\" % self.__name)\n",
    "\n",
    "    @classmethod\n",
    "    @Log  # 写在下面（\"从下往上装，从上往下拆\"）\n",
    "    def login_in(cls):\n",
    "        \"\"\"类方法\"\"\"\n",
    "        print(\"登录ing\")\n",
    "\n",
    "    @staticmethod\n",
    "    @Log\n",
    "    def show_news():\n",
    "        \"\"\"静态方法\"\"\"\n",
    "        print(\"今天的新闻是...\")\n",
    "\n",
    "def main():\n",
    "    LoginComponent.login_in()\n",
    "    LoginComponent.show_news()\n",
    "    login = LoginComponent(\"小明\")\n",
    "    login.show()\n",
    "\n",
    "if __name__ == '__main__':\n",
    "    main()"
   ]
  },
  {
   "cell_type": "markdown",
   "metadata": {},
   "source": [
    "更多的可以参考如下链接：\n",
    "\n",
    "<a href=\"https://blog.csdn.net/jyfu2_12/article/details/76283670\" target=\"_blank\">详解Python装饰器</a>\n",
    "\n",
    "<a href=\"http://python3-cookbook.readthedocs.io/zh_CN/latest/c09/p09_define_decorators_as_classes.html\" target=\"_blank\">将装饰器定义为类</a>\n",
    "\n",
    "<a href=\"https://blog.csdn.net/yaokai_assultmaster/article/details/70256621\" target=\"_blank\">Python中的__init__()和__call__()函数</a>\n",
    "\n",
    "<a href=\"https://blog.csdn.net/nextdoor6/article/details/53502353\" target=\"_blank\">python中装饰器的使用和类装饰器在类中方法的使用</a>\n",
    "\n",
    "---\n",
    "\n",
    "## 3."
   ]
  },
  {
   "cell_type": "code",
   "execution_count": null,
   "metadata": {},
   "outputs": [],
   "source": []
  }
 ],
 "metadata": {
  "kernelspec": {
   "display_name": "Python 3",
   "language": "python",
   "name": "python3"
  },
  "language_info": {
   "codemirror_mode": {
    "name": "ipython",
    "version": 3
   },
   "file_extension": ".py",
   "mimetype": "text/x-python",
   "name": "python",
   "nbconvert_exporter": "python",
   "pygments_lexer": "ipython3",
   "version": "3.6.5"
  }
 },
 "nbformat": 4,
 "nbformat_minor": 2
}
